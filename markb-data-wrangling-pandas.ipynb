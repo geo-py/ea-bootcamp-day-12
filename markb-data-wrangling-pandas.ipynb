{
 "cells": [
  {
   "cell_type": "markdown",
   "metadata": {},
   "source": [
    "## Lesson 1. Data Wrangling With Pandas\n",
    "\n",
    "### Data Wrangling With Pandas Dataframes and Numpy Arrays in Python - Earth analytics bootcamp course module\n",
    "\n",
    "Welcome to the first lesson in the Data Wrangling With Pandas Dataframes and Numpy Arrays in Python module. This tutorial walks you through wrangling data (e.g. subselect, combine and update) using pandas dataframes and numpy arrays.\n",
    "\n",
    "In this lesson, you will learn how update, filter and group values in pandas dataframes and how to append new data to pandas dataframes."
   ]
  },
  {
   "cell_type": "markdown",
   "metadata": {},
   "source": [
    "### Learning Objectives\n",
    "\n",
    "After completing this lesson, you will be able to:\n",
    "\n",
    "* Run a function on a column within a pandas dataframe\n",
    "* Filter values in a pandas dataframe\n",
    "* Group values in a pandas dataframe\n",
    "* Append new data to a pandas dataframe"
   ]
  },
  {
   "cell_type": "markdown",
   "metadata": {},
   "source": [
    "#### Data Wrangling With Pandas\n",
    "\n",
    "Pandas dataframes offer many ways to update and select data. In this lesson, you will learn about some common data tasks that can be very useful to:\n",
    "\n",
    "1. update the values in specific columns using functions\n",
    "2. create new dataframes from selections and from grouping data\n",
    "3. create new dataframes by combining existing dataframes.\n",
    "\n",
    "Begin by downloading and importing two pandas dataframes that contain temperature (Fahrenheit) for each month in 2010 to 2013 and 2014 to 2017."
   ]
  },
  {
   "cell_type": "code",
   "execution_count": 9,
   "metadata": {},
   "outputs": [],
   "source": [
    "# import necessary packages\n",
    "import os\n",
    "import pandas as pd\n",
    "import urllib.request\n",
    "\n",
    "# set the working directory\n",
    "os.chdir(\"/Users/markb/earth-analytics-bootcamp/\")\n",
    "\n",
    "# download .csv containing monthly temperature in 2010 to 2013 for Boulder, CO\n",
    "urllib.request.urlretrieve(url = \"https://ndownloader.figshare.com/files/12815417\", filename = \"data/monthly-temp-2010-to-2013.csv\")\n",
    "\n",
    "# download .csv containing montly temperature in 2014 to 2017 for Boulder, CO\n",
    "urllib.request.urlretrieve(url = \"https://ndownloader.figshare.com/files/12815420\", filename = \"data/monthly-temp-2014-to-2017.csv\")\n",
    "\n",
    "# import monthly temperature values for 2010 to 2013 as a pandas dataframe\n",
    "monthly_temp_2010_to_2013 = pd.read_csv(\"/Users/markb/earth-analytics-bootcamp/data/monthly-temp-2010-to-2013.csv\")\n",
    "\n",
    "# import monthly temperature values for 2014 to 2017 as a pandas dataframe\n",
    "monthly_temp_2014_to_2017 = pd.read_csv(\"/Users/markb/earth-analytics-bootcamp/data/monthly-temp-2014-to-2017.csv\")"
   ]
  },
  {
   "cell_type": "markdown",
   "metadata": {},
   "source": [
    "#### Review Structure of Dataframe\n",
    "\n",
    "Recall that with the .head() method, you can see the structure of the data without having to print the entire dataframe.\n",
    "\n",
    "Print .head() for each dataframe, and note their structures (i.e. how the data are organized)."
   ]
  },
  {
   "cell_type": "code",
   "execution_count": 13,
   "metadata": {},
   "outputs": [
    {
     "data": {
      "text/html": [
       "<div>\n",
       "<style scoped>\n",
       "    .dataframe tbody tr th:only-of-type {\n",
       "        vertical-align: middle;\n",
       "    }\n",
       "\n",
       "    .dataframe tbody tr th {\n",
       "        vertical-align: top;\n",
       "    }\n",
       "\n",
       "    .dataframe thead th {\n",
       "        text-align: right;\n",
       "    }\n",
       "</style>\n",
       "<table border=\"1\" class=\"dataframe\">\n",
       "  <thead>\n",
       "    <tr style=\"text-align: right;\">\n",
       "      <th></th>\n",
       "      <th>Month</th>\n",
       "      <th>Year</th>\n",
       "      <th>Temp</th>\n",
       "      <th>Season</th>\n",
       "      <th>Year_Avg</th>\n",
       "      <th>Year_Avg_Label</th>\n",
       "    </tr>\n",
       "  </thead>\n",
       "  <tbody>\n",
       "    <tr>\n",
       "      <th>0</th>\n",
       "      <td>January</td>\n",
       "      <td>2010</td>\n",
       "      <td>33.0</td>\n",
       "      <td>Winter</td>\n",
       "      <td>51.575</td>\n",
       "      <td>avg</td>\n",
       "    </tr>\n",
       "    <tr>\n",
       "      <th>1</th>\n",
       "      <td>February</td>\n",
       "      <td>2010</td>\n",
       "      <td>30.1</td>\n",
       "      <td>Winter</td>\n",
       "      <td>51.575</td>\n",
       "      <td>avg</td>\n",
       "    </tr>\n",
       "    <tr>\n",
       "      <th>2</th>\n",
       "      <td>March</td>\n",
       "      <td>2010</td>\n",
       "      <td>42.7</td>\n",
       "      <td>Spring</td>\n",
       "      <td>51.575</td>\n",
       "      <td>avg</td>\n",
       "    </tr>\n",
       "    <tr>\n",
       "      <th>3</th>\n",
       "      <td>April</td>\n",
       "      <td>2010</td>\n",
       "      <td>48.8</td>\n",
       "      <td>Spring</td>\n",
       "      <td>51.575</td>\n",
       "      <td>avg</td>\n",
       "    </tr>\n",
       "    <tr>\n",
       "      <th>4</th>\n",
       "      <td>May</td>\n",
       "      <td>2010</td>\n",
       "      <td>53.9</td>\n",
       "      <td>Spring</td>\n",
       "      <td>51.575</td>\n",
       "      <td>avg</td>\n",
       "    </tr>\n",
       "  </tbody>\n",
       "</table>\n",
       "</div>"
      ],
      "text/plain": [
       "      Month  Year  Temp  Season  Year_Avg Year_Avg_Label\n",
       "0   January  2010  33.0  Winter    51.575            avg\n",
       "1  February  2010  30.1  Winter    51.575            avg\n",
       "2     March  2010  42.7  Spring    51.575            avg\n",
       "3     April  2010  48.8  Spring    51.575            avg\n",
       "4       May  2010  53.9  Spring    51.575            avg"
      ]
     },
     "execution_count": 13,
     "metadata": {},
     "output_type": "execute_result"
    }
   ],
   "source": [
    "# print .head for 2010 to 2013\n",
    "monthly_temp_2010_to_2013.head()"
   ]
  },
  {
   "cell_type": "code",
   "execution_count": 14,
   "metadata": {},
   "outputs": [
    {
     "data": {
      "text/html": [
       "<div>\n",
       "<style scoped>\n",
       "    .dataframe tbody tr th:only-of-type {\n",
       "        vertical-align: middle;\n",
       "    }\n",
       "\n",
       "    .dataframe tbody tr th {\n",
       "        vertical-align: top;\n",
       "    }\n",
       "\n",
       "    .dataframe thead th {\n",
       "        text-align: right;\n",
       "    }\n",
       "</style>\n",
       "<table border=\"1\" class=\"dataframe\">\n",
       "  <thead>\n",
       "    <tr style=\"text-align: right;\">\n",
       "      <th></th>\n",
       "      <th>Month</th>\n",
       "      <th>Year</th>\n",
       "      <th>Temp</th>\n",
       "      <th>Season</th>\n",
       "      <th>Year_Avg</th>\n",
       "      <th>Year_Avg_Label</th>\n",
       "    </tr>\n",
       "  </thead>\n",
       "  <tbody>\n",
       "    <tr>\n",
       "      <th>0</th>\n",
       "      <td>January</td>\n",
       "      <td>2014</td>\n",
       "      <td>34.6</td>\n",
       "      <td>Winter</td>\n",
       "      <td>51.2917</td>\n",
       "      <td>avg</td>\n",
       "    </tr>\n",
       "    <tr>\n",
       "      <th>1</th>\n",
       "      <td>February</td>\n",
       "      <td>2014</td>\n",
       "      <td>32.0</td>\n",
       "      <td>Winter</td>\n",
       "      <td>51.2917</td>\n",
       "      <td>avg</td>\n",
       "    </tr>\n",
       "    <tr>\n",
       "      <th>2</th>\n",
       "      <td>March</td>\n",
       "      <td>2014</td>\n",
       "      <td>43.6</td>\n",
       "      <td>Spring</td>\n",
       "      <td>51.2917</td>\n",
       "      <td>avg</td>\n",
       "    </tr>\n",
       "    <tr>\n",
       "      <th>3</th>\n",
       "      <td>April</td>\n",
       "      <td>2014</td>\n",
       "      <td>49.8</td>\n",
       "      <td>Spring</td>\n",
       "      <td>51.2917</td>\n",
       "      <td>avg</td>\n",
       "    </tr>\n",
       "    <tr>\n",
       "      <th>4</th>\n",
       "      <td>May</td>\n",
       "      <td>2014</td>\n",
       "      <td>56.6</td>\n",
       "      <td>Spring</td>\n",
       "      <td>51.2917</td>\n",
       "      <td>avg</td>\n",
       "    </tr>\n",
       "  </tbody>\n",
       "</table>\n",
       "</div>"
      ],
      "text/plain": [
       "      Month  Year  Temp  Season  Year_Avg Year_Avg_Label\n",
       "0   January  2014  34.6  Winter   51.2917            avg\n",
       "1  February  2014  32.0  Winter   51.2917            avg\n",
       "2     March  2014  43.6  Spring   51.2917            avg\n",
       "3     April  2014  49.8  Spring   51.2917            avg\n",
       "4       May  2014  56.6  Spring   51.2917            avg"
      ]
     },
     "execution_count": 14,
     "metadata": {},
     "output_type": "execute_result"
    }
   ],
   "source": [
    "# print .head for 2014 to 2017\n",
    "monthly_temp_2014_to_2017.head()"
   ]
  },
  {
   "cell_type": "markdown",
   "metadata": {},
   "source": []
  }
 ],
 "metadata": {
  "kernelspec": {
   "display_name": "Python 3",
   "language": "python",
   "name": "python3"
  },
  "language_info": {
   "codemirror_mode": {
    "name": "ipython",
    "version": 3
   },
   "file_extension": ".py",
   "mimetype": "text/x-python",
   "name": "python",
   "nbconvert_exporter": "python",
   "pygments_lexer": "ipython3",
   "version": "3.7.0"
  }
 },
 "nbformat": 4,
 "nbformat_minor": 2
}
