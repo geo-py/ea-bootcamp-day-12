{
 "cells": [
  {
   "cell_type": "markdown",
   "metadata": {},
   "source": [
    "#### Lesson 2. Data Wrangling With Numpy Arrays\n",
    "Jenny Palomino, Software Carpentry\n",
    "\n",
    "**In This Lesson**\n",
    "\n",
    "* Learning Objectives\n",
    "* Write Function That Executes Multiple Tasks on Numpy Array and Save Output\n",
    "* Combine Numpy Arrays Using Append\n",
    "* Optional Challenge 1\n",
    "* Optional Challenge 2\n",
    "\n",
    "In this lesson, you will learn how to run functions that execute multiple tasks on a numpy array and combine multiple numpy arrays into a new numpy array.\n",
    "\n",
    "**Learning Objectives**\n",
    "\n",
    "After completing this lesson, you will be able to:\n",
    "\n",
    "* Write functions that execute multiple tasks on numpy array and save the final output\n",
    "* Append numpy arrays to create a new numpy array"
   ]
  },
  {
   "cell_type": "markdown",
   "metadata": {},
   "source": [
    "#### Write Function That Executes Multiple Tasks on Numpy Array and Save Output\n",
    "\n",
    "In previous lessons, you have written multiple functions, including a function that converts the units of a numpy array from inches to millimeters and another that calculates the mean across each column of a numpy array.~"
   ]
  },
  {
   "cell_type": "code",
   "execution_count": 1,
   "metadata": {},
   "outputs": [],
   "source": [
    "# define function to convert inches to milimeters\n",
    "def in_to_mm(x):\n",
    "    \n",
    "    # multiply an input parameter by 25.4 to convert from inches to millimeters\n",
    "    # function can take a single value, single value variable, or numpy array as input\n",
    "    # function can not take list or pandas dataframe as input\n",
    "    # returns values multiplied by 25.4\n",
    "    \n",
    "    return(x * 25.4)\n",
    "\n",
    "# define function to calculate the mean across columns of two-\n",
    "# dimensional numpy array\n",
    "def mean_stats_columns(array):\n",
    "    \n",
    "    # calculate mean of two-dimensional numpy array for each column\n",
    "    # function can take a numpy array as input\n",
    "    # function can not take list or pandas dataframe as input\n",
    "    # returns the mean of each column (axis = 0)\n",
    "    \n",
    "    stat_mean_column = np.mean(array, axis = 0)\n",
    "    return(stat_mean_column)"
   ]
  },
  {
   "cell_type": "markdown",
   "metadata": {},
   "source": [
    "#### Review Running Functions on Numpy Array\n",
    "\n",
    "You already know that you can run each function separately and save the output to a new numpy array using new_array = np.array(function(input_array)).\n",
    "\n",
    "Begin by reviewing how to run functions and save the output.\n",
    "\n",
    "First, create some data that has a familiar structure for precipitation data: one row for each year of data and columns for each month of year."
   ]
  },
  {
   "cell_type": "code",
   "execution_count": 4,
   "metadata": {},
   "outputs": [],
   "source": [
    "# import necessary package\n",
    "import numpy as np\n",
    "\n",
    "# manually create a new numpy array for monthly precip in 2002 and\n",
    "# 2003 for Boulder, CO\n",
    "monthly_precip_2002_2003_in = np.array([[1.07, \n",
    "                                      0.44, \n",
    "                                      1.50, \n",
    "                                      0.20, \n",
    "                                      3.20, \n",
    "                                      1.18, \n",
    "                                      0.09, \n",
    "                                      1.44, \n",
    "                                      1.521, \n",
    "                                      2.44, \n",
    "                                      0.78, \n",
    "                                      0.02], \n",
    "                                    [0.09, \n",
    "                                    1.52, \n",
    "                                    5.44, \n",
    "                                    2.99, \n",
    "                                    2.62, \n",
    "                                    2.69, \n",
    "                                    0.71, \n",
    "                                    3.52, \n",
    "                                    0.35, \n",
    "                                    0.45, \n",
    "                                    0.80, \n",
    "                                    0.84]])"
   ]
  },
  {
   "cell_type": "markdown",
   "metadata": {},
   "source": [
    "Then, run the first function to convert the values from inches to millimeters and save the output."
   ]
  },
  {
   "cell_type": "code",
   "execution_count": 5,
   "metadata": {},
   "outputs": [
    {
     "data": {
      "text/plain": [
       "array([[ 27.178 ,  11.176 ,  38.1   ,   5.08  ,  81.28  ,  29.972 ,\n",
       "          2.286 ,  36.576 ,  38.6334,  61.976 ,  19.812 ,   0.508 ],\n",
       "       [  2.286 ,  38.608 , 138.176 ,  75.946 ,  66.548 ,  68.326 ,\n",
       "         18.034 ,  89.408 ,   8.89  ,  11.43  ,  20.32  ,  21.336 ]])"
      ]
     },
     "execution_count": 5,
     "metadata": {},
     "output_type": "execute_result"
    }
   ],
   "source": [
    "# call in_to_mm function with input parameter and create new\n",
    "# array from output\n",
    "monthly_precip_2002_2003_mm = np.array(in_to_mm(monthly_precip_2002_2003_in))\n",
    "\n",
    "#print data\n",
    "monthly_precip_2002_2003_mm"
   ]
  },
  {
   "cell_type": "markdown",
   "metadata": {},
   "source": [
    "Last, run the second function on the output from the first function to calculate the mean of the columns."
   ]
  },
  {
   "cell_type": "code",
   "execution_count": 6,
   "metadata": {},
   "outputs": [
    {
     "data": {
      "text/plain": [
       "array([14.732 , 24.892 , 88.138 , 40.513 , 73.914 , 49.149 , 10.16  ,\n",
       "       62.992 , 23.7617, 36.703 , 20.066 , 10.922 ])"
      ]
     },
     "execution_count": 6,
     "metadata": {},
     "output_type": "execute_result"
    }
   ],
   "source": [
    "# call the function mean_stats_columns with input parameter\n",
    "mean_monthly_precip_2002_2003_mm = np.array(mean_stats_columns(monthly_precip_2002_2003_mm))\n",
    "\n",
    "# print data in new array\n",
    "mean_monthly_precip_2002_2003_mm"
   ]
  },
  {
   "cell_type": "markdown",
   "metadata": {},
   "source": [
    "#### Combine Existing Functions into One Function\n",
    "\n",
    "Instead of calling two functions separately on the same numpy array, you can write a new function that will execute both of these functions at one time.\n",
    "\n",
    "This is useful in cases when you only want to save the output of the last function (i.e. the mean of each column already converting to millimeters).\n",
    "\n",
    "Begin by defining your function, as you have before, using the keyword def.\n",
    "\n",
    "In your code before the return statement, include the function in_to_mm. Pass the implicit output of this function to the next function mean_stats_columns."
   ]
  },
  {
   "cell_type": "code",
   "execution_count": 7,
   "metadata": {},
   "outputs": [],
   "source": [
    "# define function to convert values in a numpy array and then\n",
    "# calulcate mean across the columns\n",
    "def mean_columns_mm(array_in):\n",
    "    \n",
    "    # function can take a numpy array as input\n",
    "    # function can not take list or pandas dataframe as input\n",
    "    # returns the max of each column, already conveted to milimeters\n",
    "    \n",
    "    # use function to convert from inches to milimeters\n",
    "    array_mm = in_to_mm(array_in)\n",
    "    \n",
    "    # use function to calculate mean of two-dimensional numpy array\n",
    "    # for each column\n",
    "    stat_mean_column = mean_stats_columns(array_mm)\n",
    "    \n",
    "    return(stat_mean_column)"
   ]
  },
  {
   "cell_type": "markdown",
   "metadata": {},
   "source": [
    "Note that within a function, you do not have save an output in order for the next function to use it. Once again, the implicit variables (array_in and array_mm) are acting as placeholders for the input data as it moves through the workflow.\n",
    "\n",
    "#### Run the New Function and Save Output\n",
    "\n",
    "Now that you have one function that completes multiple tasks, you can simply run that new function and save the output, just as you have done before."
   ]
  },
  {
   "cell_type": "code",
   "execution_count": 9,
   "metadata": {},
   "outputs": [
    {
     "data": {
      "text/plain": [
       "array([14.732 , 24.892 , 88.138 , 40.513 , 73.914 , 49.149 , 10.16  ,\n",
       "       62.992 , 23.7617, 36.703 , 20.066 , 10.922 ])"
      ]
     },
     "execution_count": 9,
     "metadata": {},
     "output_type": "execute_result"
    }
   ],
   "source": [
    "# call mean_columns_mm function with input parameter and create\n",
    "# new array from output\n",
    "mean_monthly_precip_2002_2003_mm = np.array(mean_columns_mm(monthly_precip_2002_2003_in))\n",
    "\n",
    "# print data\n",
    "mean_monthly_precip_2002_2003_mm"
   ]
  },
  {
   "cell_type": "markdown",
   "metadata": {},
   "source": [
    "How simple was that! Functions make it very easy to run multiple tasks on the same numpy array, and you can include as many operations and functions as needed to complete an entire workflow on a single numpy array.\n",
    "\n",
    "What are the dimensions of your final output mean_monthly_precip_2002_2003_mm? How do you know"
   ]
  },
  {
   "cell_type": "code",
   "execution_count": 18,
   "metadata": {},
   "outputs": [
    {
     "name": "stdout",
     "output_type": "stream",
     "text": [
      "Number of dimensions: 1\n",
      "Shape of array: (12,)\n"
     ]
    }
   ],
   "source": [
    "# print dimensions of final output\n",
    "print(\"Number of dimensions:\", mean_monthly_precip_2002_2003_mm.ndim)\n",
    "\n",
    "print(\"Shape of array:\", mean_monthly_precip_2002_2003_mm.shape)"
   ]
  },
  {
   "cell_type": "markdown",
   "metadata": {},
   "source": [
    "**What does each element in this final array represent?** each element represents the average precipitation for each month."
   ]
  },
  {
   "cell_type": "markdown",
   "metadata": {},
   "source": [
    "#### Combine Numpy Arrays Using Append\n",
    "\n",
    "Another useful operation is being able to combine numpy arrays, so that you can run calculations and statistics across them.\n",
    "\n",
    "You can use the np.append() method to combine numpy arrays by appending one array after another.\n",
    "\n",
    "For example, you have two one-dimensional arrays that have the same structure but contain data for different years (e.g. one array for 2004 data and another array for 2005 data)."
   ]
  },
  {
   "cell_type": "code",
   "execution_count": 19,
   "metadata": {},
   "outputs": [],
   "source": [
    "# manually create a new numpy array for monthly precip in 2004 for Boulder, CO\n",
    "monthly_precip_2004_in = np.array([0.82, \n",
    "                                  1.31, \n",
    "                                  1.09, \n",
    "                                  5.66, \n",
    "                                  1.28, \n",
    "                                  3.96, \n",
    "                                  3.44, \n",
    "                                  2.88, \n",
    "                                  2.07, \n",
    "                                  2.32, \n",
    "                                  1.99, \n",
    "                                  0.35])\n",
    "\n",
    "# manually create a new numpy array for monthly precip in 2005 for Boulder, CO\n",
    "monthly_precip_2005_in = np.array([1.40, \n",
    "                                  0.31, \n",
    "                                  1.22, \n",
    "                                  3.86, \n",
    "                                  1.91, \n",
    "                                  2.68, \n",
    "                                  0.42, \n",
    "                                  1.63, \n",
    "                                  0.52, \n",
    "                                  2.80, \n",
    "                                  0.34, \n",
    "                                  0.43])"
   ]
  },
  {
   "cell_type": "markdown",
   "metadata": {},
   "source": [
    "To calculate a summary statistic across the years, you can append the array for 2005 to the array for 2004, using the following syntax:\n",
    "\n",
    "new_array = np.append([first_array], [second_array], axis = 0).\n",
    "\n",
    "The axis = 0 indicates that you want to use the column structure to append the data, so that the elements in the one-dimensional arrays become columns in the new two-dimensional array."
   ]
  },
  {
   "cell_type": "code",
   "execution_count": 20,
   "metadata": {},
   "outputs": [
    {
     "data": {
      "text/plain": [
       "array([[0.82, 1.31, 1.09, 5.66, 1.28, 3.96, 3.44, 2.88, 2.07, 2.32, 1.99,\n",
       "        0.35],\n",
       "       [1.4 , 0.31, 1.22, 3.86, 1.91, 2.68, 0.42, 1.63, 0.52, 2.8 , 0.34,\n",
       "        0.43]])"
      ]
     },
     "execution_count": 20,
     "metadata": {},
     "output_type": "execute_result"
    }
   ],
   "source": [
    "# append 2005 array to 2004 array and save to new array\n",
    "monthly_precip_2004_2005_in = np.append([monthly_precip_2004_in], \n",
    "                                       [monthly_precip_2005_in], axis = 0)\n",
    "\n",
    "# print new array\n",
    "monthly_precip_2004_2005_in"
   ]
  },
  {
   "cell_type": "markdown",
   "metadata": {},
   "source": [
    "#### Optional Challenge 1\n",
    "\n",
    "Test your Python skills to:\n",
    "\n",
    "1. Write a new function that calculates the sum of an input array (e.g. sum_stats).\n",
    "2. Write another function that combines the sum function with in_to_mm, to calculate the sum of an array that has units in millimeters (e.g. sum_mm).\n",
    "        * Hint: define a new function that executes both in_to_mm and sum_stats in the correct order.\n",
    "3. Execute your new function on monthly_precip_2004_in and print the output.\n",
    "4. Why do you only get a single value returned from this function?"
   ]
  },
  {
   "cell_type": "code",
   "execution_count": 25,
   "metadata": {},
   "outputs": [],
   "source": [
    "# define function to calculate the sum of an input array\n",
    "def sum_stats(array):\n",
    "    \n",
    "    stat_sum_array = np.sum(array)\n",
    "    return(stat_sum_array)"
   ]
  },
  {
   "cell_type": "code",
   "execution_count": 30,
   "metadata": {},
   "outputs": [],
   "source": [
    "# define function that combines the sum function with in_to_mm,\n",
    "# to calculate the sum of an array that has units in milimeters\n",
    "# e.g. sum_mm\n",
    "\n",
    "def sum_mm(array_in):\n",
    "    \n",
    "    # function can take a numpy array as input\n",
    "    # function can not take list or pandas dataframe as input\n",
    "    # returns the sum of each column, already conveted to milimeters\n",
    "    \n",
    "    # use function to convert from inches to milimeters\n",
    "    array_mm = in_to_mm(array_in)\n",
    "    \n",
    "    # use function to calculate sum of value in the array\n",
    "    stat_sum = sum_stats(array_mm)\n",
    "    \n",
    "    return(stat_sum)\n",
    "    "
   ]
  },
  {
   "cell_type": "code",
   "execution_count": 32,
   "metadata": {},
   "outputs": [
    {
     "data": {
      "text/plain": [
       "690.1179999999999"
      ]
     },
     "execution_count": 32,
     "metadata": {},
     "output_type": "execute_result"
    }
   ],
   "source": [
    "# call sum_mm function with input parameter and create\n",
    "# new array from output\n",
    "sum_monthly_precip_mm = (sum_mm(monthly_precip_2004_in))\n",
    "\n",
    "# print data\n",
    "sum_monthly_precip_mm"
   ]
  },
  {
   "cell_type": "markdown",
   "metadata": {},
   "source": [
    "You only get a single value as it is the sum off all the values in the array."
   ]
  },
  {
   "cell_type": "markdown",
   "metadata": {},
   "source": [
    "#### Optional Challenge 2\n",
    "\n",
    "Test your Python skills to:\n",
    "\n",
    "1. Write a new function that calculates the sum across columns of a two-dimensional array (e.g. sum_stats_columns).\n",
    "2. Write another function that combines the sum function with in_to_mm, to calculate the sum across the columns of an array that has units in millimeters.\n",
    "* Hint: define a new function that executes both in_to_mm and sum_stats_columns in the correct order.\n",
    "3. Execute your new function on monthly_precip_2004_2005_in and save and print the output.\n",
    "4. How many values are in the output array? What does each value represent?"
   ]
  },
  {
   "cell_type": "code",
   "execution_count": 34,
   "metadata": {},
   "outputs": [],
   "source": [
    "# define function to calculate the sum across columns of two-\n",
    "# dimensional numpy array\n",
    "def sum_stats_columns(array):\n",
    "\n",
    "    # calculate sum of two-dimensional numpy array for each column\n",
    "    # function can take a numpy array as input\n",
    "    # function can not take list or pandas dataframe as input\n",
    "    # returns the mean of each column (axis = 0)\n",
    "    \n",
    "    stat_sum_column = np.sum(array, axis = 0)\n",
    "    return(stat_sum_column)"
   ]
  },
  {
   "cell_type": "code",
   "execution_count": 38,
   "metadata": {},
   "outputs": [
    {
     "data": {
      "text/plain": [
       "array([ 56.388,  41.148,  58.674, 241.808,  81.026, 168.656,  98.044,\n",
       "       114.554,  65.786, 130.048,  59.182,  19.812])"
      ]
     },
     "execution_count": 38,
     "metadata": {},
     "output_type": "execute_result"
    }
   ],
   "source": [
    "# define function that combines sum function with in_to_mm, to \n",
    "# calculate the sum across the columns of an array that has units\n",
    "# in mm\n",
    "\n",
    "def sum_mm_columns(array_in):\n",
    "    \n",
    "    # function can take a numpy array as input\n",
    "    # function can not take list or pandas dataframe as input\n",
    "    # returns the sum of each column, already conveted to milimeters\n",
    "    \n",
    "    # use function to convert from inches to milimeters\n",
    "    array_mm = in_to_mm(array_in)\n",
    "    \n",
    "    # use function to calculate sum of value in the array\n",
    "    sum_columns = np.array(sum_stats_columns(array_mm))\n",
    "    return(sum_columns)\n",
    "    \n",
    "# apply sum_mm_columns function on monthly_precip_2004_2005_in to create a new numpy array\n",
    "sum_monthly_precip_2004_2005_in_to_mm = np.array(sum_mm_columns(monthly_precip_2004_2005_in))\n",
    "\n",
    "# print the new array\n",
    "sum_monthly_precip_2004_2005_in_to_mm"
   ]
  }
 ],
 "metadata": {
  "kernelspec": {
   "display_name": "Python 3",
   "language": "python",
   "name": "python3"
  },
  "language_info": {
   "codemirror_mode": {
    "name": "ipython",
    "version": 3
   },
   "file_extension": ".py",
   "mimetype": "text/x-python",
   "name": "python",
   "nbconvert_exporter": "python",
   "pygments_lexer": "ipython3",
   "version": "3.7.0"
  }
 },
 "nbformat": 4,
 "nbformat_minor": 2
}
